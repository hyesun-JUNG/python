{
 "metadata": {
  "language_info": {
   "codemirror_mode": {
    "name": "ipython",
    "version": 3
   },
   "file_extension": ".py",
   "mimetype": "text/x-python",
   "name": "python",
   "nbconvert_exporter": "python",
   "pygments_lexer": "ipython3",
   "version": "3.8.5"
  },
  "orig_nbformat": 2,
  "kernelspec": {
   "name": "python385jvsc74a57bd08c1eae21719a0790335dcb83aad72b63b602cfe5cdb2bda0f60bc11d4f154e4b",
   "display_name": "Python 3.8.5 64-bit ('base': conda)"
  }
 },
 "nbformat": 4,
 "nbformat_minor": 2,
 "cells": [
  {
   "source": [
    "### 시저 암호는, 고대 로마와 황제 클리어스 시저가 만들어낸 암호인데, \n",
    "### 예를 들어 알파벳 A를 입력했을 때, 그 알파벳의 n개 뒤에 오는 알파벳이 출력되는 것이다.\n",
    "### 예를 들어 바꾸려는 글자가 \"CAT\"이고, n을 5로 지정하였을 때 \"HFY\"가 되는 것이다.\n",
    "### 어떠한 암호를 만들 문장과 n을 입력했을 때 암호를 만들어 출력하는 프로그램을 작성하시오.\n",
    "#### - 입력 : 화면에서 문자열과 n값을 입력받는다.(예: ROSE 5)\n",
    "#### - 출력 : 암호화된 문자열을 출력\n"
   ],
   "cell_type": "markdown",
   "metadata": {}
  },
  {
   "source": [
    "### Unit12. 심사문제\n",
    "#### 표준 입력으로 문자열 여러 개와 숫자(실수) 여러 개가 두 줄로 입력됩니다. \n",
    "#### 입력된 첫 번째 줄은 키, 두 번째 줄은 값으로 하여 딕셔너리를 생성한 뒤 딕셔너리를 출력하는 프로그램을 만드세요. \n",
    "#### input().split()의 결과를 변수 한 개에 저장하면 리스트로 저장됩니다.\n"
   ],
   "cell_type": "markdown",
   "metadata": {}
  },
  {
   "cell_type": "code",
   "execution_count": 5,
   "metadata": {},
   "outputs": [
    {
     "output_type": "stream",
     "name": "stdout",
     "text": [
      "{'양정원': 18.0, '이희승': 21.0, '박종성': 20.0, '심재윤': 20.0, '박성훈': 20.0, '김선우': 19.0, '니키': 17.0}\n"
     ]
    }
   ],
   "source": [
    "a = input().split() #양정원, 이희승, 박종성, 심재윤, 박성훈, 김선우, 니키 입력\n",
    "b = map(float, input().split()) #18, 21, 20, 20, 20, 19, 17 입력\n",
    "x = dict(zip(a,b))\n",
    "\n",
    "print(x)"
   ]
  },
  {
   "source": [
    "### Unit25. 심사문제(딕셔너리에서 특정 값 삭제하기)\n",
    "#### 표준 입력으로 문자열 여러 개와 숫자 여러 개가 두 줄로 입력되고, \n",
    "#### 첫 번째 줄은 키, 두 번째 줄은 값으로 하여 딕셔너리를 생성합니다. \n",
    "#### 다음 코드를 완성하여 딕셔너리에서 키가 'delta'인 키-값 쌍과 값이 30인 키-값 쌍을 삭제하도록 만드세요."
   ],
   "cell_type": "markdown",
   "metadata": {}
  },
  {
   "cell_type": "code",
   "execution_count": 3,
   "metadata": {},
   "outputs": [
    {
     "output_type": "stream",
     "name": "stdout",
     "text": [
      "{'enhypen': 20, 'bts': 40}\n"
     ]
    }
   ],
   "source": [
    "keys = input().split() #delta, enhypen, txt, bts 입력\n",
    "values = map(int, input().split()) #10, 20, 30, 40 입력\n",
    " \n",
    "x = dict(zip(keys, values))\n",
    " \n",
    "del x['delta']\n",
    "x={key:value for key,value in x.items() if value!=30} #딕셔너리 표현식 이용, 새로 생성\n",
    " \n",
    "print(x)"
   ]
  },
  {
   "source": [
    "### Unit24. 심사문제(특정 단어 개수 세기)\n",
    "#### 표준 입력으로 문자열이 입력됩니다. \n",
    "#### 입력된 문자열에서 'the'의 개수를 출력하는 프로그램을 만드세요(input에서 안내 문자열은 출력하지 않아야 합니다). \n",
    "#### 단, 모든 문자가 소문자인 'the'만 찾으면 되며 'them', 'there', 'their' 등은 포함하지 않아야 합니다."
   ],
   "cell_type": "markdown",
   "metadata": {}
  },
  {
   "cell_type": "code",
   "execution_count": 7,
   "metadata": {},
   "outputs": [
    {
     "output_type": "stream",
     "name": "stdout",
     "text": [
      "10\n"
     ]
    }
   ],
   "source": [
    "paragraph=input().split()\n",
    "count=0\n",
    "for words in paragraph:  #for문으로 문자열이 'the'인지 판단\n",
    "    if (words.strip(',.')=='the'):\n",
    "        count += 1  #'the'맞으면 count에 1씩 적립\n",
    "print(count)\n",
    "\n",
    "#입력한 노래 가사 --> Intro: Walk the Line(엔하이픈)\n",
    "## With the rugged woods at our back we greet the sun. \n",
    "## It shines in our eyes, an azure life dwelling in breathlessness.\n",
    "## We walk the long, drawn-out line that cuts across the vast land, because the world carved us on that line.\n",
    "## On the line, where do our footprints step to? What sky spreads at the end of it?\n",
    "## Even if the world that unfolds is not what we are given to the unknown we run carving sunrise, burning bright, across the world."
   ]
  },
  {
   "source": [
    "### Unit24. 심사문제(높은 가격순으로 출력하기)\n",
    "#### 표준 입력으로 물품 가격 여러 개가 문자열 한 줄로 입력되고, 각 가격은 ;(세미콜론)으로 구분되어 있습니다. \n",
    "#### 입력된 가격을 높은 가격순으로 출력하는 프로그램을 만드세요(input에서 안내 문자열은 출력하지 않아야 합니다). \n",
    "#### 이때 가격은 길이를 9로 만든 뒤 오른쪽으로 정렬하고 천단위로 ,(콤마)를 넣으세요."
   ],
   "cell_type": "markdown",
   "metadata": {}
  },
  {
   "cell_type": "code",
   "execution_count": 9,
   "metadata": {},
   "outputs": [
    {
     "output_type": "stream",
     "name": "stdout",
     "text": [
      "12,342,000\n  388,100\n  290,000\n   59,800\n   38,420\n"
     ]
    }
   ],
   "source": [
    "a = map(int, input().split(';'))\n",
    "b = list(a)\n",
    "b.sort(reverse = True)\n",
    "for i in b:\n",
    "    print('{0:>9,}'.format(i))"
   ]
  }
 ]
}