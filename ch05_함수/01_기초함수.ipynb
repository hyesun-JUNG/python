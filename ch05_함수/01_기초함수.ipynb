{
 "metadata": {
  "language_info": {
   "codemirror_mode": {
    "name": "ipython",
    "version": 3
   },
   "file_extension": ".py",
   "mimetype": "text/x-python",
   "name": "python",
   "nbconvert_exporter": "python",
   "pygments_lexer": "ipython3",
   "version": "3.8.5"
  },
  "orig_nbformat": 2,
  "kernelspec": {
   "name": "python385jvsc74a57bd08c1eae21719a0790335dcb83aad72b63b602cfe5cdb2bda0f60bc11d4f154e4b",
   "display_name": "Python 3.8.5 64-bit ('base': conda)"
  }
 },
 "nbformat": 4,
 "nbformat_minor": 2,
 "cells": [
  {
   "source": [
    "# 5장. 함수"
   ],
   "cell_type": "markdown",
   "metadata": {}
  },
  {
   "source": [
    "## 함수 기초"
   ],
   "cell_type": "markdown",
   "metadata": {}
  },
  {
   "cell_type": "code",
   "execution_count": 1,
   "metadata": {},
   "outputs": [],
   "source": [
    "def calculate_rectangle_area(x, y):\n",
    "    return x*y"
   ]
  },
  {
   "cell_type": "code",
   "execution_count": 2,
   "metadata": {},
   "outputs": [
    {
     "output_type": "execute_result",
     "data": {
      "text/plain": [
       "80"
      ]
     },
     "metadata": {},
     "execution_count": 2
    }
   ],
   "source": [
    "calculate_rectangle_area(10, 8)"
   ]
  },
  {
   "cell_type": "code",
   "execution_count": 5,
   "metadata": {},
   "outputs": [],
   "source": [
    "import math\n",
    "def calcualte_circle_area(radius):\n",
    "    return math.pi * radius * radius"
   ]
  },
  {
   "cell_type": "code",
   "execution_count": 7,
   "metadata": {},
   "outputs": [
    {
     "output_type": "stream",
     "name": "stdout",
     "text": [
      "반지름이 10인 원의 넓이는 314.1592653589793 입니다.\n반지름이 10인 원의 넓이는 314.16 입니다.\n"
     ]
    }
   ],
   "source": [
    "r = 10\n",
    "area = calcualte_circle_area(r)\n",
    "print(f'반지름이 {r}인 원의 넓이는 {area} 입니다.')\n",
    "print(f'반지름이 {r}인 원의 넓이는 {area:.2f} 입니다.')\n"
   ]
  },
  {
   "cell_type": "code",
   "execution_count": 8,
   "metadata": {},
   "outputs": [],
   "source": [
    "def is_palindrome(number):\n",
    "    s = str(number)\n",
    "    return s == s[::-1]"
   ]
  },
  {
   "cell_type": "code",
   "execution_count": 11,
   "metadata": {},
   "outputs": [
    {
     "output_type": "execute_result",
     "data": {
      "text/plain": [
       "(True, False)"
      ]
     },
     "metadata": {},
     "execution_count": 11
    }
   ],
   "source": [
    "is_palindrome(12321), is_palindrome(45910)"
   ]
  },
  {
   "cell_type": "code",
   "execution_count": 12,
   "metadata": {},
   "outputs": [
    {
     "output_type": "execute_result",
     "data": {
      "text/plain": [
       "(True, True)"
      ]
     },
     "metadata": {},
     "execution_count": 12
    }
   ],
   "source": [
    "is_palindrome('madam'), is_palindrome('소주 만병만 주소')"
   ]
  },
  {
   "source": [
    "## 함수심화"
   ],
   "cell_type": "markdown",
   "metadata": {}
  },
  {
   "source": [
    "### - Scope Rule"
   ],
   "cell_type": "markdown",
   "metadata": {}
  },
  {
   "cell_type": "code",
   "execution_count": 14,
   "metadata": {},
   "outputs": [
    {
     "output_type": "stream",
     "name": "stdout",
     "text": [
      "I love London!\nI love Paris!\n"
     ]
    }
   ],
   "source": [
    "def f():\n",
    "    #함수 안에 있는 변수 s는 지역(local) 변수임\n",
    "    s = 'I love London!'\n",
    "    print(s)\n",
    "\n",
    "# 함수 밖에 있는 변수 s는 전역(global) 변수임\n",
    "s = 'I love Paris!'\n",
    "f()\n",
    "print(s)"
   ]
  },
  {
   "cell_type": "code",
   "execution_count": 15,
   "metadata": {},
   "outputs": [
    {
     "output_type": "stream",
     "name": "stdout",
     "text": [
      "I love London!\nI love London!\n"
     ]
    }
   ],
   "source": [
    "def f():\n",
    "    global s\n",
    "    s = 'I love London!'\n",
    "    print(s)\n",
    "s = 'I love Paris!'\n",
    "f()\n",
    "print(s)"
   ]
  },
  {
   "source": [
    "### * 재귀 호출(Recursive call)"
   ],
   "cell_type": "markdown",
   "metadata": {}
  },
  {
   "cell_type": "code",
   "execution_count": 16,
   "metadata": {},
   "outputs": [],
   "source": [
    "def factorial(n):\n",
    "    if n == 0:\n",
    "        return 1\n",
    "    return n * factorial(n-1) #재귀함수선언"
   ]
  },
  {
   "cell_type": "code",
   "execution_count": 17,
   "metadata": {},
   "outputs": [
    {
     "output_type": "execute_result",
     "data": {
      "text/plain": [
       "120"
      ]
     },
     "metadata": {},
     "execution_count": 17
    }
   ],
   "source": [
    "factorial(5)"
   ]
  },
  {
   "cell_type": "code",
   "execution_count": 18,
   "metadata": {},
   "outputs": [],
   "source": [
    "def fibo(n):\n",
    "    if n == 2 or n == 1:\n",
    "        return 1\n",
    "    return fibo(n-1) + fibo(n-2)"
   ]
  },
  {
   "cell_type": "code",
   "execution_count": 19,
   "metadata": {},
   "outputs": [
    {
     "output_type": "stream",
     "name": "stdout",
     "text": [
      "fibo(1) = 1\nfibo(2) = 1\nfibo(3) = 2\nfibo(4) = 3\nfibo(5) = 5\nfibo(6) = 8\nfibo(7) = 13\nfibo(8) = 21\nfibo(9) = 34\nfibo(10) = 55\n"
     ]
    }
   ],
   "source": [
    "for i in range(1, 11):\n",
    "    print(f'fibo({i}) = {fibo(i)}')"
   ]
  },
  {
   "source": [
    "### * 리턴 값이 여러개인 경우"
   ],
   "cell_type": "markdown",
   "metadata": {}
  },
  {
   "cell_type": "code",
   "execution_count": 20,
   "metadata": {},
   "outputs": [],
   "source": [
    "# 면적, 둘레\n",
    "def about_circle(radius):\n",
    "    return math.pi * radius ** 2, 2 * math.pi * radius"
   ]
  },
  {
   "cell_type": "code",
   "execution_count": 23,
   "metadata": {},
   "outputs": [
    {
     "output_type": "stream",
     "name": "stdout",
     "text": [
      "면적 = 314.16, 둘레 = 62.83\n"
     ]
    }
   ],
   "source": [
    "area, circumference = about_circle(10)\n",
    "print(f'면적 = {area:.2f}, 둘레 = {circumference:.2f}')"
   ]
  },
  {
   "cell_type": "code",
   "execution_count": 25,
   "metadata": {},
   "outputs": [
    {
     "output_type": "stream",
     "name": "stdout",
     "text": [
      "반지름이 5일때 둘레는 31.42 입니다.\n"
     ]
    }
   ],
   "source": [
    "_, circumference = about_circle(5)\n",
    "print(f'반지름이 5일때 둘레는 {circumference:.2f} 입니다.')"
   ]
  }
 ]
}