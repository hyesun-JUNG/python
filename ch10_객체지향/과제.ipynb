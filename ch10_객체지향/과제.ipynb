{
 "metadata": {
  "language_info": {
   "codemirror_mode": {
    "name": "ipython",
    "version": 3
   },
   "file_extension": ".py",
   "mimetype": "text/x-python",
   "name": "python",
   "nbconvert_exporter": "python",
   "pygments_lexer": "ipython3",
   "version": "3.8.5"
  },
  "orig_nbformat": 2,
  "kernelspec": {
   "name": "python385jvsc74a57bd08c1eae21719a0790335dcb83aad72b63b602cfe5cdb2bda0f60bc11d4f154e4b",
   "display_name": "Python 3.8.5 64-bit ('base': conda)"
  }
 },
 "nbformat": 4,
 "nbformat_minor": 2,
 "cells": [
  {
   "source": [
    "## Unit 13. 심사문제: 온라인 할인 쿠폰 시스템 만들기\n",
    "### 표준 입력으로 가격(정수)과 쿠폰 이름이 각 줄에 입력됩니다. \n",
    "### Cash3000 쿠폰은 3,000원, Cash5000 쿠폰은 5,000원을 할인합니다. \n",
    "### 쿠폰에 따라 할인된 가격을 출력하는 프로그램을 만드세요(input에서 안내 문자열은 출력하지 않아야 합니다)."
   ],
   "cell_type": "markdown",
   "metadata": {}
  },
  {
   "cell_type": "code",
   "execution_count": 1,
   "metadata": {},
   "outputs": [
    {
     "output_type": "stream",
     "name": "stdout",
     "text": [
      "12000\n"
     ]
    }
   ],
   "source": [
    "a=int(input())\n",
    "b=input()\n",
    "if b=='Cash3000':\n",
    "    a-=3000\n",
    "if b=='Cash5000':\n",
    "    a-=5000\n",
    "print(a)\n",
    "\n",
    "# a = 17000, b = Cash5000 입력"
   ]
  },
  {
   "source": [
    "## Unit 14. 심사문제: 합격 여부 판단하기\n",
    "### 표준 입력으로 국어, 영어, 수학, 과학 점수가 입력됩니다. \n",
    "### 여기서 네 과목의 평균 점수가 80점 이상일 때 합격이라고 정했습니다. \n",
    "### 평균 점수에 따라 '합격', '불합격'을 출력하는 프로그램을 만드세요(input에서 안내 문자열은 출력하지 않아야 합니다). \n",
    "### 단, 점수는 0점부터 100점까지만 입력받을 수 있으며 범위를 벗어났다면 '잘못된 점수'를 출력하고 \n",
    "### 합격, 불합격 여부는 출력하지 않아야 합니다."
   ],
   "cell_type": "markdown",
   "metadata": {}
  },
  {
   "cell_type": "code",
   "execution_count": 4,
   "metadata": {},
   "outputs": [
    {
     "output_type": "stream",
     "name": "stdout",
     "text": [
      "합격\n"
     ]
    }
   ],
   "source": [
    "korean, english, math, science = map(int, input().split())\n",
    "\n",
    "if korean < 0 or korean > 100 or english < 0 or english > 100 or math < 0 or math > 100 or science < 0 or science > 100:\n",
    "  print('잘못된 점수')\n",
    "else:\n",
    "  if (korean + english + math + science) / 4 >= 80:\n",
    "    print('합격')\n",
    "  else:\n",
    "    print('불합격')"
   ]
  },
  {
   "source": [
    "## Unit 15. 심사문제: 교통카드 시스템 만들기\n",
    "### 표준 입력으로 나이(만 나이)가 입력됩니다(입력 값은 7 이상 입력됨). \n",
    "### 교통카드 시스템에서 시내버스 요금은 다음과 같으며 각 나이에 맞게 요금을 차감한 뒤 잔액이 출력되게 만드세요(if, elif 사용). \n",
    "### 현재 교통카드에는 9,000원이 들어있습니다.\n",
    "\n",
    "### 어린이(초등학생, 만 7세 이상 12세 이하): 650원\n",
    "### 청소년(중∙고등학생, 만 13세 이상 18세 이하): 1,050원\n",
    "### 어른(일반, 만 19세 이상): 1,250원"
   ],
   "cell_type": "markdown",
   "metadata": {}
  },
  {
   "cell_type": "code",
   "execution_count": 6,
   "metadata": {},
   "outputs": [
    {
     "output_type": "stream",
     "name": "stdout",
     "text": [
      "7750\n"
     ]
    }
   ],
   "source": [
    "age = int(input())\r\n",
    "balance = 9000\r\n",
    "\r\n",
    "if 7<=age<=12:\r\n",
    "    balance-=650\r\n",
    "elif 13<=age<=18:\r\n",
    "    balance-=1050\r\n",
    "elif age>=19:\r\n",
    "    balance-=1250\r\n",
    "\r\n",
    "print(balance)\r\n",
    "\r\n",
    "# 20 적음"
   ]
  },
  {
   "source": [
    "## Unit 16. 심사문제: 구구단 출력하기\n",
    "### 표준 입력으로 정수가 입력됩니다. \n",
    "### 입력된 정수의 구구단을 출력하는 프로그램을 만드세요(input에서 안내 문자열은 출력하지 않아야 합니다). \n",
    "### 출력 형식은 숫자 * 숫자 = 숫자처럼 만들고 숫자와 *, = 사이는 공백을 한 칸 띄웁니다."
   ],
   "cell_type": "markdown",
   "metadata": {}
  },
  {
   "cell_type": "code",
   "execution_count": 7,
   "metadata": {},
   "outputs": [
    {
     "output_type": "stream",
     "name": "stdout",
     "text": [
      "7 * 1 = 7\n7 * 2 = 14\n7 * 3 = 21\n7 * 4 = 28\n7 * 5 = 35\n7 * 6 = 42\n7 * 7 = 49\n7 * 8 = 56\n7 * 9 = 63\n"
     ]
    }
   ],
   "source": [
    "x=int(input())\n",
    "for i in range(1,10):\n",
    "    print(x,'*',i,'=',x*i)"
   ]
  },
  {
   "source": [
    "## Unit 17. 심사문제: 교통카드 잔액 출력하기\n",
    "### 표준 입력으로 금액(정수)이 입력됩니다. \n",
    "### 1회당 요금은 1,350원이고, 교통카드를 사용했을 때마다의 잔액을 각 줄에 출력하는 프로그램을 만드세요\n",
    "### (input에서 안내 문자열은 출력하지 않아야 합니다). \n",
    "### 단, 최초 금액은 출력하지 않아야 합니다. 그리고 잔액은 음수가 될 수 없으며 잔액이 부족하면 출력을 끝냅니다."
   ],
   "cell_type": "markdown",
   "metadata": {}
  },
  {
   "cell_type": "code",
   "execution_count": 9,
   "metadata": {},
   "outputs": [
    {
     "output_type": "stream",
     "name": "stdout",
     "text": [
      "6650\n5300\n3950\n2600\n1250\n"
     ]
    }
   ],
   "source": [
    "i=int(input())\n",
    "while i>=1350:\n",
    "    i-=1350\n",
    "    print(i)"
   ]
  },
  {
   "source": [
    "## Unit 18. 심사문제: 두 수 사이의 숫자 중 3으로 끝나지 않는 숫자 출력하기\n",
    "### 표준 입력으로 정수 두 개가 입력됩니다\n",
    "### (첫 번째 입력 값의 범위는 1~200, 두 번째 입력 값의 범위는 10~200이며 첫 번째 입력 값은 두 번째 입력 값보다 항상 작습니다). \n",
    "### 다음 소스 코드를 완성하여 첫 번째 정수와 두 번째 정수 사이의 숫자 중 3으로 끝나지 않는 숫자가 출력되게 만드세요. \n",
    "### 정답에 코드를 작성할 때는 while True:에 맞춰서 들여쓰기를 해주세요."
   ],
   "cell_type": "markdown",
   "metadata": {}
  },
  {
   "cell_type": "code",
   "execution_count": 12,
   "metadata": {},
   "outputs": [
    {
     "output_type": "stream",
     "name": "stdout",
     "text": [
      "10 11 12 14 15 16 17 18 19 20 21 22 24 25 26 27 28 29 30 31 32 34 35 36 37 38 39 40 41 42 44 45 46 47 48 49 50 51 52 54 55 56 57 58 59 60 61 62 64 65 66 67 68 69 70 71 72 74 75 76 77 78 79 80 81 82 84 85 86 87 88 89 90 91 92 94 95 96 97 98 99 100 101 102 104 105 106 107 108 109 110 111 112 114 115 116 117 118 119 120 121 122 124 125 126 127 128 129 130 131 132 134 135 136 137 138 139 140 141 142 144 145 146 147 148 149 150 151 152 154 155 156 157 158 159 160 161 162 164 165 166 167 168 169 170 171 172 174 175 176 177 178 179 180 "
     ]
    }
   ],
   "source": [
    "start, stop = map(int, input().split())\n",
    " \n",
    "i = start\n",
    " \n",
    "while True:\n",
    "\n",
    "    if i > stop:\n",
    "      break\n",
    "    if i % 10 == 3:\n",
    "      i += 1\n",
    "      continue\n",
    "\n",
    "    print(i, end=' ')\n",
    "    i += 1"
   ]
  }
 ]
}