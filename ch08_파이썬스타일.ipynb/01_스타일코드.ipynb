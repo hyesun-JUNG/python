{
 "metadata": {
  "language_info": {
   "codemirror_mode": {
    "name": "ipython",
    "version": 3
   },
   "file_extension": ".py",
   "mimetype": "text/x-python",
   "name": "python",
   "nbconvert_exporter": "python",
   "pygments_lexer": "ipython3",
   "version": "3.8.5"
  },
  "orig_nbformat": 2,
  "kernelspec": {
   "name": "python385jvsc74a57bd08c1eae21719a0790335dcb83aad72b63b602cfe5cdb2bda0f60bc11d4f154e4b",
   "display_name": "Python 3.8.5 64-bit ('base': conda)"
  }
 },
 "nbformat": 4,
 "nbformat_minor": 2,
 "cells": [
  {
   "source": [
    "# 8장. 파이썬 스타일 코드 1"
   ],
   "cell_type": "markdown",
   "metadata": {}
  },
  {
   "source": [
    "## 1. join(리스트를 문자열로)"
   ],
   "cell_type": "markdown",
   "metadata": {}
  },
  {
   "cell_type": "code",
   "execution_count": 1,
   "metadata": {},
   "outputs": [
    {
     "output_type": "execute_result",
     "data": {
      "text/plain": [
       "'redbluegreenyellow'"
      ]
     },
     "metadata": {},
     "execution_count": 1
    }
   ],
   "source": [
    "colors = ['red', 'blue', 'green', 'yellow']\n",
    "color_text = ''\n",
    "for color in colors:\n",
    "    color_text += color\n",
    "color_text"
   ]
  },
  {
   "cell_type": "code",
   "execution_count": null,
   "metadata": {},
   "outputs": [],
   "source": [
    "color_text = ''\n",
    "for index, color in enumerate(colors):\n",
    "    color_text += color\n",
    "    if index != len(colors) - 1:\n",
    "        color_text += ', '\n",
    "color_text"
   ]
  },
  {
   "cell_type": "code",
   "execution_count": 2,
   "metadata": {},
   "outputs": [
    {
     "output_type": "execute_result",
     "data": {
      "text/plain": [
       "'red, blue, green, yellow'"
      ]
     },
     "metadata": {},
     "execution_count": 2
    }
   ],
   "source": [
    "color_text = ''\n",
    "for index, color in enumerate(colors):\n",
    "    color_text += color\n",
    "    if index != len(colors) - 1:\n",
    "        color_text += ', '\n",
    "color_text"
   ]
  },
  {
   "cell_type": "code",
   "execution_count": 3,
   "metadata": {},
   "outputs": [
    {
     "output_type": "execute_result",
     "data": {
      "text/plain": [
       "'red, blue, green, yellow'"
      ]
     },
     "metadata": {},
     "execution_count": 3
    }
   ],
   "source": [
    "', '.join(colors)"
   ]
  },
  {
   "cell_type": "code",
   "execution_count": 4,
   "metadata": {},
   "outputs": [
    {
     "output_type": "execute_result",
     "data": {
      "text/plain": [
       "'red, blue, green, yellow'"
      ]
     },
     "metadata": {},
     "execution_count": 4
    }
   ],
   "source": [
    "', '.join(color for color in colors)"
   ]
  },
  {
   "source": [
    "## 2. 리스트 컴프리헨션"
   ],
   "cell_type": "markdown",
   "metadata": {}
  },
  {
   "cell_type": "code",
   "execution_count": 5,
   "metadata": {},
   "outputs": [
    {
     "output_type": "execute_result",
     "data": {
      "text/plain": [
       "[0, 1, 2, 3, 4, 5, 6, 7, 8, 9]"
      ]
     },
     "metadata": {},
     "execution_count": 5
    }
   ],
   "source": [
    "# 기존방법\n",
    "empty_list = []\n",
    "for i in range(10):\n",
    "    empty_list.append(i)\n",
    "empty_list"
   ]
  },
  {
   "cell_type": "code",
   "execution_count": 6,
   "metadata": {},
   "outputs": [
    {
     "output_type": "execute_result",
     "data": {
      "text/plain": [
       "[0, 1, 4, 9, 16, 25, 36, 49, 64, 81]"
      ]
     },
     "metadata": {},
     "execution_count": 6
    }
   ],
   "source": [
    "[i*i for i in range(10)]"
   ]
  },
  {
   "cell_type": "code",
   "execution_count": 7,
   "metadata": {},
   "outputs": [
    {
     "output_type": "execute_result",
     "data": {
      "text/plain": [
       "[5, 4, 7, 14, 25, 40, 59, 82, 109, 140]"
      ]
     },
     "metadata": {},
     "execution_count": 7
    }
   ],
   "source": [
    "[2*x*x - 3*x + 5 for x in range(10)]"
   ]
  },
  {
   "cell_type": "code",
   "execution_count": 8,
   "metadata": {},
   "outputs": [
    {
     "output_type": "execute_result",
     "data": {
      "text/plain": [
       "[1.0,\n",
       " 1.4142135623730951,\n",
       " 1.7320508075688772,\n",
       " 2.0,\n",
       " 2.23606797749979,\n",
       " 2.449489742783178,\n",
       " 2.6457513110645907,\n",
       " 2.8284271247461903,\n",
       " 3.0,\n",
       " 3.1622776601683795]"
      ]
     },
     "metadata": {},
     "execution_count": 8
    }
   ],
   "source": [
    "import math\n",
    "[math.sqrt(x) for x in range(1, 11)]"
   ]
  },
  {
   "source": [
    "### * 조건을 부여할 수 있음"
   ],
   "cell_type": "markdown",
   "metadata": {}
  },
  {
   "cell_type": "code",
   "execution_count": 9,
   "metadata": {},
   "outputs": [
    {
     "output_type": "execute_result",
     "data": {
      "text/plain": [
       "[0, 2, 4, 6, 8]"
      ]
     },
     "metadata": {},
     "execution_count": 9
    }
   ],
   "source": [
    "[i for i in range(10) if i % 2 == 0 ]"
   ]
  },
  {
   "cell_type": "code",
   "execution_count": 10,
   "metadata": {},
   "outputs": [
    {
     "output_type": "execute_result",
     "data": {
      "text/plain": [
       "[0, 'odd', 2, 'odd', 4, 'odd', 6, 'odd', 8, 'odd']"
      ]
     },
     "metadata": {},
     "execution_count": 10
    }
   ],
   "source": [
    "[i if i % 2 == 0 else 'odd' for i in range(10)]"
   ]
  },
  {
   "source": [
    "### * 중첩 반복문"
   ],
   "cell_type": "markdown",
   "metadata": {}
  },
  {
   "cell_type": "code",
   "execution_count": 11,
   "metadata": {},
   "outputs": [
    {
     "output_type": "execute_result",
     "data": {
      "text/plain": [
       "['1x', '1y', '1z', '2x', '2y', '2z', '3x', '3y', '3z']"
      ]
     },
     "metadata": {},
     "execution_count": 11
    }
   ],
   "source": [
    "str1 = '123'\n",
    "str2 = 'xyz'\n",
    "[i + k for i in str1 for k in str2]"
   ]
  },
  {
   "cell_type": "code",
   "execution_count": 12,
   "metadata": {},
   "outputs": [
    {
     "output_type": "execute_result",
     "data": {
      "text/plain": [
       "['1x', '1y', '1z', '2x', '2y', '2z', '3x', '3y', '3z']"
      ]
     },
     "metadata": {},
     "execution_count": 12
    }
   ],
   "source": [
    "[i + k for i in str1 \\\n",
    "    for k in str2]"
   ]
  },
  {
   "source": [
    "### * 2차원 리스트 만들기"
   ],
   "cell_type": "markdown",
   "metadata": {}
  },
  {
   "cell_type": "code",
   "execution_count": 13,
   "metadata": {},
   "outputs": [
    {
     "output_type": "execute_result",
     "data": {
      "text/plain": [
       "[['A'],\n",
       " ['quick'],\n",
       " ['brown'],\n",
       " ['fox'],\n",
       " ['jumps'],\n",
       " ['over'],\n",
       " ['the'],\n",
       " ['lazy'],\n",
       " ['dog.']]"
      ]
     },
     "metadata": {},
     "execution_count": 13
    }
   ],
   "source": [
    "text = 'A quick brown fox jumps over the lazy dog.'\n",
    "[[word] for word in text.split()]"
   ]
  },
  {
   "cell_type": "code",
   "execution_count": 14,
   "metadata": {},
   "outputs": [
    {
     "output_type": "execute_result",
     "data": {
      "text/plain": [
       "[['A', 'a', 1],\n",
       " ['QUICK', 'quick', 5],\n",
       " ['BROWN', 'brown', 5],\n",
       " ['FOX', 'fox', 3],\n",
       " ['JUMPS', 'jumps', 5],\n",
       " ['OVER', 'over', 4],\n",
       " ['THE', 'the', 3],\n",
       " ['LAZY', 'lazy', 4],\n",
       " ['DOG.', 'dog.', 4]]"
      ]
     },
     "metadata": {},
     "execution_count": 14
    }
   ],
   "source": [
    "[[w.upper(), w.lower(), len(w)] for w in text.split()]"
   ]
  },
  {
   "source": [
    "### - 성능"
   ],
   "cell_type": "markdown",
   "metadata": {}
  },
  {
   "cell_type": "code",
   "execution_count": 15,
   "metadata": {},
   "outputs": [],
   "source": [
    "def scalar_vector_product(scalar, vector):\n",
    "    result = []\n",
    "    for value in vector:\n",
    "        result.append(scalar * vector)\n",
    "    return result"
   ]
  },
  {
   "cell_type": "code",
   "execution_count": 16,
   "metadata": {},
   "outputs": [],
   "source": [
    "iteration = 10000\n",
    "vector = list(range(iteration))\n",
    "scalar = 2"
   ]
  },
  {
   "cell_type": "code",
   "execution_count": null,
   "metadata": {},
   "outputs": [],
   "source": [
    "%%time\n",
    "for _ in range(iteration): \n",
    "    scalar_vector_product(scalar, vector)"
   ]
  },
  {
   "source": [
    "## 코딩도장 unit22. 심사문제\n",
    "#### 표준 입력으로 정수 두 개가 입력됩니다\n",
    "#### (첫 번째 입력 값의 범위는 1~20, 두 번째 입력 값의 범위는 10~30이며 첫 번째 입력 값은 두 번째 입력 값보다 항상 작습니다). \n",
    "#### 첫 번째 정수부터 두 번째 정수까지를 지수로 하는 2의 거듭제곱 리스트를 출력하는 프로그램을 만드세요\n",
    "#### (input에서 안내 문자열은 출력하지 않아야 합니다). \n",
    "#### 단, 리스트의 두 번째 요소와 뒤에서 두 번째 요소는 삭제한 뒤 출력하세요. 출력 결과는 리스트 형태라야 합니다."
   ],
   "cell_type": "markdown",
   "metadata": {}
  },
  {
   "cell_type": "code",
   "execution_count": 21,
   "metadata": {},
   "outputs": [
    {
     "output_type": "error",
     "ename": "SyntaxError",
     "evalue": "unmatched ']' (<ipython-input-21-33ff66585fe8>, line 2)",
     "traceback": [
      "\u001b[1;36m  File \u001b[1;32m\"<ipython-input-21-33ff66585fe8>\"\u001b[1;36m, line \u001b[1;32m2\u001b[0m\n\u001b[1;33m    [2 ** i for i in range(first, second+1) if i != first+1] and i != second-1]\u001b[0m\n\u001b[1;37m                                                                              ^\u001b[0m\n\u001b[1;31mSyntaxError\u001b[0m\u001b[1;31m:\u001b[0m unmatched ']'\n"
     ]
    }
   ],
   "source": [
    "first, second = map(int, input().split())\n",
    "[2 ** i for i in range(first, second+1) if i != first+1] and i != second-1]"
   ]
  },
  {
   "source": [
    "## 3. 딕셔너리 컴프리헨션"
   ],
   "cell_type": "markdown",
   "metadata": {}
  },
  {
   "cell_type": "code",
   "execution_count": 18,
   "metadata": {},
   "outputs": [
    {
     "output_type": "execute_result",
     "data": {
      "text/plain": [
       "{'a': 10, 'b': 20, 'c': 30, 'd': 40}"
      ]
     },
     "metadata": {},
     "execution_count": 18
    }
   ],
   "source": [
    "x = {'a':10, 'b':20, 'c':30, 'd':40}\n",
    "{key:value for key, value in x.items()}"
   ]
  },
  {
   "cell_type": "code",
   "execution_count": 19,
   "metadata": {},
   "outputs": [
    {
     "output_type": "stream",
     "name": "stdout",
     "text": [
      "0 apple\n1 banana\n2 cherry\n"
     ]
    }
   ],
   "source": [
    "fruits = ['apple', 'banana', 'cherry']\n",
    "for i, fruit in enumerate(fruits):\n",
    "    print(i, fruit)"
   ]
  },
  {
   "cell_type": "code",
   "execution_count": 22,
   "metadata": {},
   "outputs": [
    {
     "output_type": "execute_result",
     "data": {
      "text/plain": [
       "{'apple': 1000, 'banana': 2000, 'cherry': 3000}"
      ]
     },
     "metadata": {},
     "execution_count": 22
    }
   ],
   "source": [
    "{fruit:i*1000+1000 for i, fruit in enumerate(fruits)}"
   ]
  },
  {
   "cell_type": "code",
   "execution_count": 24,
   "metadata": {},
   "outputs": [
    {
     "output_type": "execute_result",
     "data": {
      "text/plain": [
       "1418"
      ]
     },
     "metadata": {},
     "execution_count": 24
    }
   ],
   "source": [
    "import random\n",
    "random.randint(1000, 2000)"
   ]
  },
  {
   "cell_type": "code",
   "execution_count": 25,
   "metadata": {},
   "outputs": [
    {
     "output_type": "execute_result",
     "data": {
      "text/plain": [
       "{'apple': 1900, 'banana': 1900, 'cherry': 1400}"
      ]
     },
     "metadata": {},
     "execution_count": 25
    }
   ],
   "source": [
    "{fruit:random.randint(10, 20)*100 for fruit in fruits}"
   ]
  },
  {
   "cell_type": "code",
   "execution_count": 26,
   "metadata": {},
   "outputs": [
    {
     "output_type": "execute_result",
     "data": {
      "text/plain": [
       "{'a': 10, 'b': 20, 'd': 40}"
      ]
     },
     "metadata": {},
     "execution_count": 26
    }
   ],
   "source": [
    "#딕셔너리 필터링\n",
    "x = {'a':10, 'b':20, 'c':30, 'd':40}\n",
    "{key:value for key, value in x.items() if value != 30}"
   ]
  },
  {
   "source": [
    "### 4. 다양한 방식의 리스트 출력"
   ],
   "cell_type": "markdown",
   "metadata": {}
  },
  {
   "cell_type": "code",
   "execution_count": 27,
   "metadata": {},
   "outputs": [
    {
     "output_type": "stream",
     "name": "stdout",
     "text": [
      "0 apple\n1 banana\n2 cherry\n"
     ]
    }
   ],
   "source": [
    "for i, fruit in enumerate(fruits):\n",
    "    print(i, fruit)"
   ]
  }
 ]
}