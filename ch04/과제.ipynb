{
 "metadata": {
  "language_info": {
   "codemirror_mode": {
    "name": "ipython",
    "version": 3
   },
   "file_extension": ".py",
   "mimetype": "text/x-python",
   "name": "python",
   "nbconvert_exporter": "python",
   "pygments_lexer": "ipython3",
   "version": "3.8.5"
  },
  "orig_nbformat": 2,
  "kernelspec": {
   "name": "python385jvsc74a57bd08c1eae21719a0790335dcb83aad72b63b602cfe5cdb2bda0f60bc11d4f154e4b",
   "display_name": "Python 3.8.5 64-bit ('base': conda)"
  }
 },
 "nbformat": 4,
 "nbformat_minor": 2,
 "cells": [
  {
   "source": [
    "# 조건문"
   ],
   "cell_type": "markdown",
   "metadata": {}
  },
  {
   "source": [
    "### 1. 연도를 입력으로 받아 윤년인지 아닌지를 출력하는 프로그램을 작성하시오. \n",
    "윤년은 연도가 4의 배수이면서, 100의 배수가 아닐 때 또는 400의 배수일 때이다. \n",
    "(예를들어, 2012년은 4의 배수라서 윤년이지만, 1900년은 4의 배수이지만, \n",
    "100의 배수이기 때문에 윤년이 아니다. 하지만, 2000년은 400의 배수이기 때문에 윤년이다.)\n"
   ],
   "cell_type": "markdown",
   "metadata": {}
  },
  {
   "cell_type": "code",
   "execution_count": 28,
   "metadata": {
    "tags": []
   },
   "outputs": [
    {
     "output_type": "stream",
     "name": "stdout",
     "text": [
      "2021 은 윤년이 아닙니다.\n"
     ]
    }
   ],
   "source": [
    "year = int(input('연도를 입력하세요.'))\n",
    "if  ((year % 4 == 0 and year % 100 != 0) or year % 400 == 0): \n",
    "    print(year, '은 윤년입니다.')\n",
    "else: \n",
    "    print(year, '은 윤년이 아닙니다.')\n",
    "\n",
    "#언인벤트 뭐시기 오류 나오면 if문 드래그해서 shift + tab 치기"
   ]
  },
  {
   "source": [
    "### 2. 본인의 생일을 1998 12 15 과 같이 년 월 일로 입력받아 오늘 날짜의 만 나이를 구하는 프로그램을 작성하시오."
   ],
   "cell_type": "markdown",
   "metadata": {}
  },
  {
   "cell_type": "code",
   "execution_count": 21,
   "metadata": {},
   "outputs": [
    {
     "output_type": "stream",
     "name": "stdout",
     "text": [
      "만 나이는  24 입니다.\n"
     ]
    }
   ],
   "source": [
    "birth_year = int(input('출생년(4자리)을 입력하세요.'))\n",
    "birth_month = int(input('출생월을 입력하세요.'))\n",
    "birth_day= int(input('출생일을 입력하세요.'))\n",
    "\n",
    "import datetime\n",
    "now = datetime.datetime.now()\n",
    "\n",
    "if birth_month < now.month:\n",
    "     age = now.year - birth_year\n",
    "elif birth_month == now.month:\n",
    "    if birth_day <= now.day:\n",
    "        age = now.year - birth_year\n",
    "    else :\n",
    "        age = now.year - birth_year - 1\n",
    "else :\n",
    "    age = now.year - birth_year - 1\n",
    "\n",
    "print('만 나이는 ', age, '입니다.')"
   ]
  },
  {
   "cell_type": "code",
   "execution_count": 2,
   "metadata": {},
   "outputs": [
    {
     "output_type": "error",
     "ename": "ValueError",
     "evalue": "invalid literal for int() with base 10: '1997,'",
     "traceback": [
      "\u001b[1;31m---------------------------------------------------------------------------\u001b[0m",
      "\u001b[1;31mValueError\u001b[0m                                Traceback (most recent call last)",
      "\u001b[1;32m<ipython-input-2-1d3505ee1e12>\u001b[0m in \u001b[0;36m<module>\u001b[1;34m\u001b[0m\n\u001b[1;32m----> 1\u001b[1;33m \u001b[0myear\u001b[0m\u001b[1;33m,\u001b[0m \u001b[0mmonth\u001b[0m\u001b[1;33m,\u001b[0m \u001b[0mday\u001b[0m \u001b[1;33m=\u001b[0m \u001b[0mmap\u001b[0m\u001b[1;33m(\u001b[0m\u001b[0mint\u001b[0m\u001b[1;33m,\u001b[0m \u001b[0minput\u001b[0m\u001b[1;33m(\u001b[0m\u001b[1;34m'생일 입력'\u001b[0m\u001b[1;33m)\u001b[0m\u001b[1;33m.\u001b[0m\u001b[0msplit\u001b[0m\u001b[1;33m(\u001b[0m\u001b[1;33m)\u001b[0m\u001b[1;33m)\u001b[0m\u001b[1;33m\u001b[0m\u001b[1;33m\u001b[0m\u001b[0m\n\u001b[0m\u001b[0;32m      2\u001b[0m \u001b[0myear\u001b[0m\u001b[1;33m,\u001b[0m \u001b[0mmonth\u001b[0m\u001b[1;33m,\u001b[0m \u001b[0mday\u001b[0m\u001b[1;33m\u001b[0m\u001b[1;33m\u001b[0m\u001b[0m\n",
      "\u001b[1;31mValueError\u001b[0m: invalid literal for int() with base 10: '1997,'"
     ]
    }
   ],
   "source": [
    "year, month, day = map(int, input('생일 입력').split())\n",
    "year, month, day"
   ]
  },
  {
   "source": [
    "## 3. 세 자연수 a, b, c 가 피타고라스 정리 a2 + b2 = c2 를 만족하면 피타고라스 수라고 부른다. \n",
    "### (여기서 a < b < c 이고 a + b > c) 예를 들면, 32 + 42 = 9 + 16 = 25 = 52 이므로 3, 4, 5는 피타고라스 수입니다.\n",
    "### a + b + c = 1000 인 피타고라스 수를 구하시오. (답은 한가지 뿐이다.)\n"
   ],
   "cell_type": "markdown",
   "metadata": {}
  },
  {
   "cell_type": "code",
   "execution_count": 8,
   "metadata": {},
   "outputs": [],
   "source": [
    "for a in range(1, 333):\n",
    "    for b in range(a+1, 500):\n",
    "        c = 1000 - a - b\n",
    "        if c < (a + b):\n",
    "            continue\n",
    "        if c*c == a*a + b*b:\n",
    "            print(f'{a}, {b}, {c}')\n",
    "            break"
   ]
  },
  {
   "source": [
    "# 반복문"
   ],
   "cell_type": "markdown",
   "metadata": {}
  },
  {
   "source": [
    "## 1. (별 그리기)\n",
    "### 5이상 9이하의 홀수를 입력받아 다이아몬드 형태의 별을 출력하는 프로그램을 작성하시오."
   ],
   "cell_type": "markdown",
   "metadata": {}
  },
  {
   "cell_type": "code",
   "execution_count": 25,
   "metadata": {},
   "outputs": [
    {
     "output_type": "stream",
     "name": "stdout",
     "text": [
      "   *   \n  ***  \n ***** \n  ***  \n   *   \n"
     ]
    }
   ],
   "source": [
    "dia = int(input('5이상 9이하의 홀수'))\n",
    "if dia % 2 == 1:\n",
    "    i = 1\n",
    "else:\n",
    "    i = 2\n",
    "\n",
    "for i in range(i, dia + 1, 2):\n",
    "    blank = ' ' * ((dia - i)//2)\n",
    "    star = '*' * i\n",
    "\n",
    "    print(blank, star, blank)\n",
    "    \n",
    "for i in range(i-2, 0, -2):\n",
    "    blank = ' ' * ((dia - i)//2)\n",
    "    star = '*' * i\n",
    "    \n",
    "    print(blank, star, blank)"
   ]
  },
  {
   "source": [
    "## 2. 디지털 시계에 하루동안(00:00~23:59) 3이 표시되는 시간을 초로 환산하면 총 몇 초(second)일까요?\n",
    "### 디지털 시계는 하루동안 다음과 같이 시:분(00:00~23:59)으로 표시됨."
   ],
   "cell_type": "markdown",
   "metadata": {}
  },
  {
   "cell_type": "code",
   "execution_count": 26,
   "metadata": {},
   "outputs": [
    {
     "output_type": "stream",
     "name": "stdout",
     "text": [
      "29700\n"
     ]
    }
   ],
   "source": [
    "sumSec=0    # 초의 총합을 저장할 변수\n",
    "for hour in range(24) :     # 시간\n",
    "    for minute in range(60) :   #분\n",
    "        if '3' in str(hour) or '3' in str(minute) : # 시간이나 분에 3이 들어가면\n",
    "            sumSec += 60            # 60초씩 더함\n",
    "print(sumSec)"
   ]
  },
  {
   "source": [
    "## 3. 1~1000에서 각 숫자의 개수를 구하시오.\n",
    "### - 예로 10 ~ 15 까지의 각 숫자의 개수를 구해보자.\n",
    "### 10 = 1, 0\n",
    "### 11 = 1, 1 \n",
    "### 12 = 1, 2\n",
    "### 13 = 1, 3\n",
    "### 14 = 1, 4\n",
    "### 15 = 1, 5\n",
    "### 그러므로 이 경우의 답은 0:1개, 1:7개, 2:1개, 3:1개, 4:1개, 5:1개"
   ],
   "cell_type": "markdown",
   "metadata": {}
  },
  {
   "cell_type": "code",
   "execution_count": 27,
   "metadata": {},
   "outputs": [
    {
     "output_type": "stream",
     "name": "stdout",
     "text": [
      "0의 갯수 = 192\n1의 갯수 = 301\n2의 갯수 = 300\n3의 갯수 = 300\n4의 갯수 = 300\n5의 갯수 = 300\n6의 갯수 = 300\n7의 갯수 = 300\n8의 갯수 = 300\n9의 갯수 = 300\n"
     ]
    }
   ],
   "source": [
    "s = []\n",
    "for i in range(1, 1001):\n",
    "    for d in range(0,len(str(i))):\n",
    "        letter = str(i)\n",
    "        add = letter[d:d+1]\n",
    "        s.append(add)\n",
    "for k in range(0,10):\n",
    "    print(\"{0}의 갯수 = {1}\".format(str(k),s.count(str(k))))"
   ]
  },
  {
   "source": [
    "## 4. 자기 자신을 제외한 모든 양의 약수들의 합이 자기 자신이 되는 자연수를 완전수라고 한다.\n",
    "## 예를 들면, 6과 28은 완전수이다. \n",
    "## 6=1+2+3    1,2,3은 각각 6의 약수 \n",
    "## 28=1+2+4+7+14   1,2,4,7,14는 각각 28의 약수.\n",
    "## 입력으로 자연수 N을 받고, 출력으로 N 이하의 모든 완전수를 출력하는 코드를 작성하시오.\n"
   ],
   "cell_type": "markdown",
   "metadata": {}
  },
  {
   "cell_type": "code",
   "execution_count": null,
   "metadata": {},
   "outputs": [],
   "source": []
  }
 ]
}