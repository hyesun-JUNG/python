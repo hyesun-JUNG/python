{
 "metadata": {
  "language_info": {
   "codemirror_mode": {
    "name": "ipython",
    "version": 3
   },
   "file_extension": ".py",
   "mimetype": "text/x-python",
   "name": "python",
   "nbconvert_exporter": "python",
   "pygments_lexer": "ipython3",
   "version": "3.8.5"
  },
  "orig_nbformat": 2,
  "kernelspec": {
   "name": "python385jvsc74a57bd08c1eae21719a0790335dcb83aad72b63b602cfe5cdb2bda0f60bc11d4f154e4b",
   "display_name": "Python 3.8.5 64-bit ('base': conda)"
  }
 },
 "nbformat": 4,
 "nbformat_minor": 2,
 "cells": [
  {
   "source": [
    "## 4. 리스트의 이해"
   ],
   "cell_type": "markdown",
   "metadata": {}
  },
  {
   "cell_type": "code",
   "execution_count": 6,
   "metadata": {},
   "outputs": [],
   "source": [
    "#다양한 타입\n",
    "colors = ['red', 'green', 'blue', 0xffffff]"
   ]
  },
  {
   "source": [
    "### - 인덱싱"
   ],
   "cell_type": "markdown",
   "metadata": {}
  },
  {
   "cell_type": "code",
   "execution_count": 9,
   "metadata": {},
   "outputs": [
    {
     "output_type": "execute_result",
     "data": {
      "text/plain": [
       "('red', 'red')"
      ]
     },
     "metadata": {},
     "execution_count": 9
    }
   ],
   "source": [
    "colors[0], colors[-4]"
   ]
  },
  {
   "cell_type": "code",
   "execution_count": 10,
   "metadata": {},
   "outputs": [
    {
     "output_type": "execute_result",
     "data": {
      "text/plain": [
       "('blue', 'blue')"
      ]
     },
     "metadata": {},
     "execution_count": 10
    }
   ],
   "source": [
    "colors[2], colors[-2]"
   ]
  },
  {
   "source": [
    "### - 슬라이싱"
   ],
   "cell_type": "markdown",
   "metadata": {}
  },
  {
   "cell_type": "code",
   "execution_count": 11,
   "metadata": {},
   "outputs": [
    {
     "output_type": "execute_result",
     "data": {
      "text/plain": [
       "['서울', '부산', '인천']"
      ]
     },
     "metadata": {},
     "execution_count": 11
    }
   ],
   "source": [
    "cities = ['서울', '부산', '인천', '대구', '대전', '광주', '울산', '세종']\n",
    "cities[0:3]"
   ]
  },
  {
   "cell_type": "code",
   "execution_count": 12,
   "metadata": {},
   "outputs": [
    {
     "output_type": "execute_result",
     "data": {
      "text/plain": [
       "['서울', '부산', '인천']"
      ]
     },
     "metadata": {},
     "execution_count": 12
    }
   ],
   "source": [
    "#시작의 0, 끝의 -1은 생략 가능\n",
    "cities[:3]"
   ]
  },
  {
   "cell_type": "code",
   "execution_count": 13,
   "metadata": {},
   "outputs": [
    {
     "output_type": "execute_result",
     "data": {
      "text/plain": [
       "(['광주', '울산'], ['광주', '울산', '세종'])"
      ]
     },
     "metadata": {},
     "execution_count": 13
    }
   ],
   "source": [
    "cities[5:-1], cities[5:]"
   ]
  },
  {
   "cell_type": "code",
   "execution_count": 14,
   "metadata": {},
   "outputs": [
    {
     "output_type": "execute_result",
     "data": {
      "text/plain": [
       "['서울', '인천', '대전', '울산']"
      ]
     },
     "metadata": {},
     "execution_count": 14
    }
   ],
   "source": [
    "# 시작값 : 끝값: 증분\n",
    "cities[::2]"
   ]
  },
  {
   "cell_type": "code",
   "execution_count": 15,
   "metadata": {},
   "outputs": [
    {
     "output_type": "execute_result",
     "data": {
      "text/plain": [
       "['세종', '울산']"
      ]
     },
     "metadata": {},
     "execution_count": 15
    }
   ],
   "source": [
    "cities[7:5:-1]"
   ]
  },
  {
   "cell_type": "code",
   "execution_count": 16,
   "metadata": {},
   "outputs": [
    {
     "output_type": "execute_result",
     "data": {
      "text/plain": [
       "['서울', '부산', '인천', '대구', '대전', '광주', '울산', '세종']"
      ]
     },
     "metadata": {},
     "execution_count": 16
    }
   ],
   "source": [
    "# 인덱스 범위를 넘어가는 슬라이싱\n",
    "cities[-10:10]"
   ]
  },
  {
   "source": [
    "### - 연산"
   ],
   "cell_type": "markdown",
   "metadata": {}
  },
  {
   "cell_type": "code",
   "execution_count": 18,
   "metadata": {},
   "outputs": [],
   "source": [
    "color1 = ['red', 'green', 'blue']\n",
    "color2 = ['orange', 'black', 'white']"
   ]
  },
  {
   "cell_type": "code",
   "execution_count": 19,
   "metadata": {},
   "outputs": [
    {
     "output_type": "execute_result",
     "data": {
      "text/plain": [
       "3"
      ]
     },
     "metadata": {},
     "execution_count": 19
    }
   ],
   "source": [
    "len(color1)"
   ]
  },
  {
   "cell_type": "code",
   "execution_count": 20,
   "metadata": {},
   "outputs": [
    {
     "output_type": "execute_result",
     "data": {
      "text/plain": [
       "['red', 'green', 'blue', 'orange', 'black', 'white']"
      ]
     },
     "metadata": {},
     "execution_count": 20
    }
   ],
   "source": [
    "color1 + color2"
   ]
  },
  {
   "cell_type": "code",
   "execution_count": 23,
   "metadata": {},
   "outputs": [
    {
     "output_type": "execute_result",
     "data": {
      "text/plain": [
       "['red', 'green', 'blue', 'red', 'green', 'blue']"
      ]
     },
     "metadata": {},
     "execution_count": 23
    }
   ],
   "source": [
    "color1 * 2 # 반복"
   ]
  },
  {
   "cell_type": "code",
   "execution_count": 24,
   "metadata": {},
   "outputs": [
    {
     "output_type": "execute_result",
     "data": {
      "text/plain": [
       "(True, False)"
      ]
     },
     "metadata": {},
     "execution_count": 24
    }
   ],
   "source": [
    "'red' in color1, 'red' in color2"
   ]
  },
  {
   "cell_type": "code",
   "execution_count": 25,
   "metadata": {},
   "outputs": [
    {
     "output_type": "execute_result",
     "data": {
      "text/plain": [
       "False"
      ]
     },
     "metadata": {},
     "execution_count": 25
    }
   ],
   "source": [
    "'red' not in color1"
   ]
  },
  {
   "source": [
    "### - 리스트의 추가 및 삭제(다양한 메소드)"
   ],
   "cell_type": "markdown",
   "metadata": {}
  },
  {
   "source": [
    "#### a. append"
   ],
   "cell_type": "markdown",
   "metadata": {}
  },
  {
   "cell_type": "code",
   "execution_count": 28,
   "metadata": {},
   "outputs": [],
   "source": [
    "color = ['red', 'green', 'blue']"
   ]
  },
  {
   "cell_type": "code",
   "execution_count": 30,
   "metadata": {},
   "outputs": [
    {
     "output_type": "execute_result",
     "data": {
      "text/plain": [
       "['red', 'green', 'blue', 'white', 'white']"
      ]
     },
     "metadata": {},
     "execution_count": 30
    }
   ],
   "source": [
    "color.append('white')\n",
    "color"
   ]
  },
  {
   "cell_type": "code",
   "execution_count": 34,
   "metadata": {},
   "outputs": [
    {
     "output_type": "execute_result",
     "data": {
      "text/plain": [
       "['H', 'e', 'l', 'l', 'o', ' ', 'W', 'o', 'r', 'l', 'd']"
      ]
     },
     "metadata": {},
     "execution_count": 34
    }
   ],
   "source": [
    "results = list() #empty 리스트 생성\n",
    "for s in 'Hello World':\n",
    "    results.append(s)\n",
    "results"
   ]
  },
  {
   "cell_type": "code",
   "execution_count": 37,
   "metadata": {},
   "outputs": [
    {
     "output_type": "execute_result",
     "data": {
      "text/plain": [
       "['H', 'e', 'l', 'l', 'o', ' ', 'W', 'o', 'r', 'l', 'd']"
      ]
     },
     "metadata": {},
     "execution_count": 37
    }
   ],
   "source": [
    "x = [s for s in 'Hello World']\n",
    "x"
   ]
  },
  {
   "cell_type": "code",
   "execution_count": 35,
   "metadata": {},
   "outputs": [
    {
     "output_type": "execute_result",
     "data": {
      "text/plain": [
       "5050"
      ]
     },
     "metadata": {},
     "execution_count": 35
    }
   ],
   "source": [
    "sum = 0\n",
    "for i in range(101):\n",
    "    sum += i\n",
    "sum"
   ]
  },
  {
   "source": [
    "#### b. extend()"
   ],
   "cell_type": "markdown",
   "metadata": {}
  },
  {
   "cell_type": "code",
   "execution_count": 39,
   "metadata": {},
   "outputs": [
    {
     "output_type": "execute_result",
     "data": {
      "text/plain": [
       "['red', 'green', 'blue', 'white', 'white', ['black', 'white']]"
      ]
     },
     "metadata": {},
     "execution_count": 39
    }
   ],
   "source": [
    "color.append(['black', 'white'])\n",
    "color"
   ]
  },
  {
   "cell_type": "code",
   "execution_count": 40,
   "metadata": {},
   "outputs": [
    {
     "output_type": "execute_result",
     "data": {
      "text/plain": [
       "['red', 'green', 'blue', 'black', 'white']"
      ]
     },
     "metadata": {},
     "execution_count": 40
    }
   ],
   "source": [
    "color = ['red', 'green', 'blue']\n",
    "color.extend(['black', 'white'])\n",
    "color"
   ]
  },
  {
   "source": [
    "#### c. insert()"
   ],
   "cell_type": "markdown",
   "metadata": {}
  },
  {
   "cell_type": "code",
   "execution_count": 41,
   "metadata": {},
   "outputs": [
    {
     "output_type": "execute_result",
     "data": {
      "text/plain": [
       "['__add__',\n",
       " '__class__',\n",
       " '__contains__',\n",
       " '__delattr__',\n",
       " '__delitem__',\n",
       " '__dir__',\n",
       " '__doc__',\n",
       " '__eq__',\n",
       " '__format__',\n",
       " '__ge__',\n",
       " '__getattribute__',\n",
       " '__getitem__',\n",
       " '__gt__',\n",
       " '__hash__',\n",
       " '__iadd__',\n",
       " '__imul__',\n",
       " '__init__',\n",
       " '__init_subclass__',\n",
       " '__iter__',\n",
       " '__le__',\n",
       " '__len__',\n",
       " '__lt__',\n",
       " '__mul__',\n",
       " '__ne__',\n",
       " '__new__',\n",
       " '__reduce__',\n",
       " '__reduce_ex__',\n",
       " '__repr__',\n",
       " '__reversed__',\n",
       " '__rmul__',\n",
       " '__setattr__',\n",
       " '__setitem__',\n",
       " '__sizeof__',\n",
       " '__str__',\n",
       " '__subclasshook__',\n",
       " 'append',\n",
       " 'clear',\n",
       " 'copy',\n",
       " 'count',\n",
       " 'extend',\n",
       " 'index',\n",
       " 'insert',\n",
       " 'pop',\n",
       " 'remove',\n",
       " 'reverse',\n",
       " 'sort']"
      ]
     },
     "metadata": {},
     "execution_count": 41
    }
   ],
   "source": [
    "dir(color)"
   ]
  },
  {
   "cell_type": "code",
   "execution_count": 42,
   "metadata": {},
   "outputs": [
    {
     "output_type": "execute_result",
     "data": {
      "text/plain": [
       "['orange', 'red', 'green', 'blue', 'black', 'white']"
      ]
     },
     "metadata": {},
     "execution_count": 42
    }
   ],
   "source": [
    "color.insert(0, 'orange')\n",
    "color"
   ]
  },
  {
   "source": [
    "#### d. remove()"
   ],
   "cell_type": "markdown",
   "metadata": {}
  },
  {
   "cell_type": "code",
   "execution_count": 43,
   "metadata": {},
   "outputs": [
    {
     "output_type": "execute_result",
     "data": {
      "text/plain": [
       "['red', 'green', 'blue', 'black', 'white']"
      ]
     },
     "metadata": {},
     "execution_count": 43
    }
   ],
   "source": [
    "color.remove('orange')\n",
    "color"
   ]
  },
  {
   "cell_type": "code",
   "execution_count": 44,
   "metadata": {},
   "outputs": [
    {
     "output_type": "execute_result",
     "data": {
      "text/plain": [
       "['red', 'green', 'blue', 'black']"
      ]
     },
     "metadata": {},
     "execution_count": 44
    }
   ],
   "source": [
    "color.remove(color[-1])\n",
    "color"
   ]
  },
  {
   "cell_type": "code",
   "execution_count": 45,
   "metadata": {},
   "outputs": [
    {
     "output_type": "execute_result",
     "data": {
      "text/plain": [
       "['red', 'green', 'blue']"
      ]
     },
     "metadata": {},
     "execution_count": 45
    }
   ],
   "source": [
    "del color[-1]\n",
    "color"
   ]
  },
  {
   "source": [
    "### - 리스트 element의 값 변경"
   ],
   "cell_type": "markdown",
   "metadata": {}
  },
  {
   "cell_type": "code",
   "execution_count": 46,
   "metadata": {},
   "outputs": [
    {
     "output_type": "execute_result",
     "data": {
      "text/plain": [
       "['red', 'green', 'purple']"
      ]
     },
     "metadata": {},
     "execution_count": 46
    }
   ],
   "source": [
    "color[2] = 'purple'\n",
    "color"
   ]
  },
  {
   "source": [
    "#### e. sort()"
   ],
   "cell_type": "markdown",
   "metadata": {}
  },
  {
   "cell_type": "code",
   "execution_count": 48,
   "metadata": {},
   "outputs": [
    {
     "output_type": "execute_result",
     "data": {
      "text/plain": [
       "['green', 'purple', 'red']"
      ]
     },
     "metadata": {},
     "execution_count": 48
    }
   ],
   "source": [
    "color"
   ]
  },
  {
   "cell_type": "code",
   "execution_count": 49,
   "metadata": {},
   "outputs": [
    {
     "output_type": "execute_result",
     "data": {
      "text/plain": [
       "['green', 'purple', 'red']"
      ]
     },
     "metadata": {},
     "execution_count": 49
    }
   ],
   "source": [
    "#오름차순이 기본\n",
    "color.sort()\n",
    "color"
   ]
  },
  {
   "cell_type": "code",
   "execution_count": 50,
   "metadata": {},
   "outputs": [
    {
     "output_type": "execute_result",
     "data": {
      "text/plain": [
       "['red', 'purple', 'green']"
      ]
     },
     "metadata": {},
     "execution_count": 50
    }
   ],
   "source": [
    "#내림차순이 기본\n",
    "color.sort(reverse=True)\n",
    "color"
   ]
  },
  {
   "source": [
    "#### - 패킹, 언패킹"
   ],
   "cell_type": "markdown",
   "metadata": {}
  },
  {
   "cell_type": "code",
   "execution_count": 51,
   "metadata": {},
   "outputs": [
    {
     "output_type": "execute_result",
     "data": {
      "text/plain": [
       "(1, 2, 3)"
      ]
     },
     "metadata": {},
     "execution_count": 51
    }
   ],
   "source": [
    "t = [1, 2, 3]\n",
    "a, b, c = t  # 리스트 언패킹\n",
    "a, b, c      # 튜플 패킹킹"
   ]
  },
  {
   "source": [
    "#### - 이차원 리스트"
   ],
   "cell_type": "markdown",
   "metadata": {}
  },
  {
   "cell_type": "code",
   "execution_count": 53,
   "metadata": {},
   "outputs": [
    {
     "output_type": "execute_result",
     "data": {
      "text/plain": [
       "[[40, 79, 20, 100, 80], [43, 59, 85, 30, 90], [49, 79, 48, 60, 100]]"
      ]
     },
     "metadata": {},
     "execution_count": 53
    }
   ],
   "source": [
    "kor = [40, 79, 20, 100, 80]\n",
    "mat = [43, 59, 85, 30, 90]\n",
    "eng = [49, 79, 48, 60, 100]\n",
    "score = [kor, mat, eng]\n",
    "score"
   ]
  },
  {
   "cell_type": "code",
   "execution_count": 54,
   "metadata": {},
   "outputs": [
    {
     "output_type": "execute_result",
     "data": {
      "text/plain": [
       "[40, 79, 20, 100, 80]"
      ]
     },
     "metadata": {},
     "execution_count": 54
    }
   ],
   "source": [
    "score[0]"
   ]
  },
  {
   "cell_type": "code",
   "execution_count": 55,
   "metadata": {},
   "outputs": [
    {
     "output_type": "execute_result",
     "data": {
      "text/plain": [
       "30"
      ]
     },
     "metadata": {},
     "execution_count": 55
    }
   ],
   "source": [
    "# [행 인덱스][열 인덱스]\n",
    "score[1][3]"
   ]
  },
  {
   "cell_type": "code",
   "execution_count": 56,
   "metadata": {},
   "outputs": [
    {
     "output_type": "execute_result",
     "data": {
      "text/plain": [
       "[[43, 59, 85, 30, 90], [49, 79, 48, 60, 100]]"
      ]
     },
     "metadata": {},
     "execution_count": 56
    }
   ],
   "source": [
    "score[1:]"
   ]
  },
  {
   "cell_type": "code",
   "execution_count": 57,
   "metadata": {},
   "outputs": [
    {
     "output_type": "execute_result",
     "data": {
      "text/plain": [
       "[[40, 79, 20, 100, 80], [43, 59, 85, 30, 90], [49, 79, 48, 60, 100]]"
      ]
     },
     "metadata": {},
     "execution_count": 57
    }
   ],
   "source": [
    "# 행 전부 다\n",
    "score[:]"
   ]
  },
  {
   "source": [
    "## 5. 리스트의 메모리 관리 방식"
   ],
   "cell_type": "markdown",
   "metadata": {}
  },
  {
   "source": [
    "## 여러개 입력 처리"
   ],
   "cell_type": "markdown",
   "metadata": {}
  },
  {
   "cell_type": "code",
   "execution_count": 58,
   "metadata": {},
   "outputs": [
    {
     "output_type": "execute_result",
     "data": {
      "text/plain": [
       "['red', 'green', 'blue']"
      ]
     },
     "metadata": {},
     "execution_count": 58
    }
   ],
   "source": [
    "a = 'red green blue'\n",
    "a.split()"
   ]
  },
  {
   "cell_type": "code",
   "execution_count": 61,
   "metadata": {},
   "outputs": [
    {
     "output_type": "execute_result",
     "data": {
      "text/plain": [
       "['red', 'green', 'blue']"
      ]
     },
     "metadata": {},
     "execution_count": 61
    }
   ],
   "source": [
    "b = 'red,green,blue'\n",
    "b.split(',')"
   ]
  },
  {
   "cell_type": "code",
   "execution_count": 62,
   "metadata": {},
   "outputs": [
    {
     "output_type": "execute_result",
     "data": {
      "text/plain": [
       "'빨강 초록 파랑'"
      ]
     },
     "metadata": {},
     "execution_count": 62
    }
   ],
   "source": [
    "string = input('빛의 3원색을 빈칸으로 구분하여 입력하세요.')\n",
    "string"
   ]
  },
  {
   "cell_type": "code",
   "execution_count": 63,
   "metadata": {},
   "outputs": [
    {
     "output_type": "execute_result",
     "data": {
      "text/plain": [
       "('빨강', '초록', '파랑')"
      ]
     },
     "metadata": {},
     "execution_count": 63
    }
   ],
   "source": [
    "r, g, b = string.split()\n",
    "r, g, b"
   ]
  },
  {
   "cell_type": "code",
   "execution_count": 65,
   "metadata": {},
   "outputs": [
    {
     "output_type": "execute_result",
     "data": {
      "text/plain": [
       "[3.1, 2.4, 8.5]"
      ]
     },
     "metadata": {},
     "execution_count": 65
    }
   ],
   "source": [
    "numbers = ['3.1', '2.4', '8.5']\n",
    "list(map(float, numbers))"
   ]
  },
  {
   "cell_type": "code",
   "execution_count": 66,
   "metadata": {},
   "outputs": [
    {
     "output_type": "execute_result",
     "data": {
      "text/plain": [
       "[3.1, 2.4, 8.5]"
      ]
     },
     "metadata": {},
     "execution_count": 66
    }
   ],
   "source": [
    "string = '3.1 2.4 8.5'\n",
    "list(map(float, string.split()))"
   ]
  },
  {
   "cell_type": "code",
   "execution_count": 67,
   "metadata": {},
   "outputs": [
    {
     "output_type": "execute_result",
     "data": {
      "text/plain": [
       "'3.1 2.4 8.5'"
      ]
     },
     "metadata": {},
     "execution_count": 67
    }
   ],
   "source": [
    "string = input('실수 세개를 빈칸으로 구분하여 입력하세요.')\n",
    "string"
   ]
  },
  {
   "cell_type": "code",
   "execution_count": 68,
   "metadata": {},
   "outputs": [
    {
     "output_type": "execute_result",
     "data": {
      "text/plain": [
       "[3.1, 2.4, 8.5]"
      ]
     },
     "metadata": {},
     "execution_count": 68
    }
   ],
   "source": [
    "list(map(float, input('실수 세개 입력').split()))"
   ]
  },
  {
   "cell_type": "code",
   "execution_count": 70,
   "metadata": {},
   "outputs": [
    {
     "output_type": "execute_result",
     "data": {
      "text/plain": [
       "(3.1, 2.4, 8.5)"
      ]
     },
     "metadata": {},
     "execution_count": 70
    }
   ],
   "source": [
    "x, y, z = [3.1, 2.4, 8.5]\n",
    "x, y, z"
   ]
  },
  {
   "cell_type": "code",
   "execution_count": 71,
   "metadata": {},
   "outputs": [
    {
     "output_type": "execute_result",
     "data": {
      "text/plain": [
       "(1.0, 2.0, 3.0)"
      ]
     },
     "metadata": {},
     "execution_count": 71
    }
   ],
   "source": [
    "x, y, z = list(map(float, input('실수 세개 입력').split()))\n",
    "x, y, z"
   ]
  },
  {
   "cell_type": "code",
   "execution_count": 74,
   "metadata": {},
   "outputs": [
    {
     "output_type": "execute_result",
     "data": {
      "text/plain": [
       "(1.0, 2.0, 3.0)"
      ]
     },
     "metadata": {},
     "execution_count": 74
    }
   ],
   "source": [
    "#list 굳이 안써도 됨\n",
    "x, y, z = map(float, input('실수 세개 입력').split())\n",
    "x, y, z"
   ]
  },
  {
   "source": [
    "## 추가사항"
   ],
   "cell_type": "markdown",
   "metadata": {}
  },
  {
   "source": [
    "### range - sequence 자료형"
   ],
   "cell_type": "markdown",
   "metadata": {}
  },
  {
   "cell_type": "code",
   "execution_count": 75,
   "metadata": {},
   "outputs": [
    {
     "output_type": "execute_result",
     "data": {
      "text/plain": [
       "[0, 1, 2, 3, 4]"
      ]
     },
     "metadata": {},
     "execution_count": 75
    }
   ],
   "source": [
    "# 하나만 있으면 0부터 끝값 +1\n",
    "list(range(5))"
   ]
  },
  {
   "cell_type": "code",
   "execution_count": 76,
   "metadata": {},
   "outputs": [
    {
     "output_type": "execute_result",
     "data": {
      "text/plain": [
       "[1, 2, 3, 4, 5, 6, 7, 8, 9, 10]"
      ]
     },
     "metadata": {},
     "execution_count": 76
    }
   ],
   "source": [
    "# 1~10\n",
    "list(range(1, 11))"
   ]
  },
  {
   "cell_type": "code",
   "execution_count": 77,
   "metadata": {},
   "outputs": [
    {
     "output_type": "execute_result",
     "data": {
      "text/plain": [
       "[1, 3, 5, 7, 9]"
      ]
     },
     "metadata": {},
     "execution_count": 77
    }
   ],
   "source": [
    "# 1~10, 홀수\n",
    "list(range(1, 10, 2))"
   ]
  },
  {
   "cell_type": "code",
   "execution_count": 80,
   "metadata": {},
   "outputs": [
    {
     "output_type": "execute_result",
     "data": {
      "text/plain": [
       "[10, 8, 6, 4, 2]"
      ]
     },
     "metadata": {},
     "execution_count": 80
    }
   ],
   "source": [
    "# 10~1, 짝수\n",
    "list(range(10, 1, -2))"
   ]
  },
  {
   "source": [
    "### 두개의 정수를 입력받아서 첫번째 값에서 부터 두번째 값까지 출력\n",
    "#### 단, 두번째 값이 첫번째 값보다 큼"
   ],
   "cell_type": "markdown",
   "metadata": {}
  },
  {
   "cell_type": "code",
   "execution_count": 85,
   "metadata": {},
   "outputs": [
    {
     "output_type": "execute_result",
     "data": {
      "text/plain": [
       "(5, 10)"
      ]
     },
     "metadata": {},
     "execution_count": 85
    }
   ],
   "source": [
    "x, y = map(int, input('정수 두 개 입력').split())\n",
    "x, y"
   ]
  },
  {
   "cell_type": "code",
   "execution_count": 86,
   "metadata": {},
   "outputs": [
    {
     "output_type": "stream",
     "name": "stdout",
     "text": [
      "[5, 6, 7, 8, 9, 10]\n"
     ]
    }
   ],
   "source": [
    "print(list(range(x, y+1)))"
   ]
  },
  {
   "cell_type": "code",
   "execution_count": null,
   "metadata": {},
   "outputs": [],
   "source": []
  }
 ]
}